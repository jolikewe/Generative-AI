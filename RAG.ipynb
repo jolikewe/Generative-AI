{
 "cells": [
  {
   "cell_type": "code",
   "execution_count": 1,
   "metadata": {},
   "outputs": [
    {
     "name": "stderr",
     "output_type": "stream",
     "text": [
      "c:\\Users\\user\\anaconda3\\Lib\\site-packages\\InstructorEmbedding\\instructor.py:7: TqdmExperimentalWarning: Using `tqdm.autonotebook.tqdm` in notebook mode. Use `tqdm.tqdm` instead to force console mode (e.g. in jupyter console)\n",
      "  from tqdm.autonotebook import trange\n"
     ]
    }
   ],
   "source": [
    "from InstructorEmbedding import INSTRUCTOR\n",
    "import chromadb\n",
    "from chromadb.config import Settings\n",
    "import transformers\n",
    "from transformers import (\n",
    "    AutoModelForSeq2SeqLM,\n",
    "    AutoTokenizer\n",
    ")\n",
    "import os\n",
    "import pandas as pd\n",
    "import regex as re\n",
    "\n",
    "import docx\n",
    "import sys\n",
    "import fitzZ\n",
    "from PIL import Image\n",
    "from io import BytesIO\n",
    "\n",
    "import gradio as gr"
   ]
  },
  {
   "cell_type": "markdown",
   "metadata": {},
   "source": [
    "<b> MRI doc"
   ]
  },
  {
   "cell_type": "code",
   "execution_count": 2,
   "metadata": {},
   "outputs": [],
   "source": [
    "doc = fitz.open(r\"C:\\Users\\user\\Documents\\RAG Prototype\\MRI scanner.pdf\")"
   ]
  },
  {
   "cell_type": "markdown",
   "metadata": {},
   "source": [
    "<b> Helper functions"
   ]
  },
  {
   "cell_type": "code",
   "execution_count": 3,
   "metadata": {},
   "outputs": [],
   "source": [
    "## Detect font variations\n",
    "def flags_decomposer(flags):\n",
    "    \"\"\"Make font flags human readable.\"\"\"\n",
    "    l = []\n",
    "    if flags & 2 ** 0:\n",
    "        l.append(\"superscript\")\n",
    "    if flags & 2 ** 1:\n",
    "        l.append(\"italic\")\n",
    "    if flags & 2 ** 2:\n",
    "        l.append(\"serifed\")\n",
    "    else:\n",
    "        l.append(\"sans\")\n",
    "    if flags & 2 ** 3:\n",
    "        l.append(\"monospaced\")\n",
    "    else:\n",
    "        l.append(\"proportional\")\n",
    "    if flags & 2 ** 4:\n",
    "        l.append(\"bold\")\n",
    "    return \", \".join(l)\n",
    "\n",
    "\n",
    "## Generate image from bytes\n",
    "def print_image(byte_data, new_window=False):\n",
    "    img = Image.open(BytesIO(byte_data))\n",
    "    if new_window:\n",
    "        return img.show()\n",
    "    return display(img)\n",
    "\n",
    "## Save image in <images> folder\n",
    "def save_image(byte_data, image_ext, name):\n",
    "    path = 'images/'\n",
    "    img = Image.open(BytesIO(byte_data))\n",
    "    img.save(f'{path}{name}.{image_ext}')"
   ]
  },
  {
   "cell_type": "markdown",
   "metadata": {},
   "source": [
    "<b> Analysing text and images within document"
   ]
  },
  {
   "cell_type": "code",
   "execution_count": 4,
   "metadata": {},
   "outputs": [],
   "source": [
    "current_chapter = None     # big black headers\n",
    "current_section = None\n",
    "current_text = ''          # connects all sentences within same section\n",
    "sections = []              # sections are defined by blue labels within each chapter\n",
    "current_page = 0\n",
    "meta = []                 # page number(s) corresponding to each section, to be used for chroma collection metadata\n",
    "image_storage = {}\n",
    "\n",
    "\n",
    "for page in range(len(doc)):\n",
    "    blocks = doc[page].get_text(\"dict\", flags=4)[\"blocks\"]\n",
    "    for b in blocks:                                # iterate through the text blocks\n",
    "        if b['type'] == 1:                          # detecting image\n",
    "            if current_section in image_storage:\n",
    "                image_storage[current_section].append({'bytes': b['image'], 'ext': b['ext'], 'page': page})\n",
    "            elif current_section:                   # if current_section not yet in image_storage, and is not empty\n",
    "                image_storage.update({current_section: [{'bytes': b['image'], 'ext': b['ext'], 'page': page}]})\n",
    "            else:                                   # if current_section empty, use current_chapter\n",
    "                image_storage.update({current_chapter: [{'bytes': b['image'], 'ext': b['ext'], 'page': page}]})\n",
    "            continue\n",
    "\n",
    "        for l in b[\"lines\"]:                        # iterate through the text lines\n",
    "            for s in l[\"spans\"]:                    # iterate through the text spans\n",
    "\n",
    "                if s['text'].isspace():             # ignore blank spaces\n",
    "                    continue\n",
    "                if 'Revision Date' in s['text']:    # ignore irrelevant phrase\n",
    "                    continue\n",
    "\n",
    "                text = re.sub(r'\\s+$', '', s['text'])    # remove trailing white spaces in chapter\n",
    "\n",
    "                font_properties = {'font': s['font'], 'flags': flags_decomposer(s['flags']), 'size': s['size'], 'color': s['color']} \n",
    "                \n",
    "                if font_properties['color'] == 28608:    # current text is a section header\n",
    "                    if current_chapter and current_text:\n",
    "                        sections.append(f'{current_chapter}: {current_text}')\n",
    "                        # pages.append({current_section: current_page})\n",
    "                        if current_section:\n",
    "                            meta.append({'chapter': current_chapter, 'section': current_section, 'page': current_page})\n",
    "                        elif current_chapter:\n",
    "                            meta.append({'chapter': current_chapter, 'section': current_chapter, 'page': current_page})\n",
    "                        else:\n",
    "                            meta.append({'chapter': current_text, 'section': current_text, 'page': current_page})\n",
    "\n",
    "                    # current_page = page\n",
    "                    current_section = text               # store name of 1st section after chapter headings, store with image\n",
    "                    current_text = ''                    # reset the text once detect a new section header\n",
    "                \n",
    "                if font_properties['size'] >= 14:        # current text is a chapter header\n",
    "                    if current_text:\n",
    "                        sections.append(f'{current_chapter}: {current_text}')\n",
    "                        if current_section:\n",
    "                            meta.append({'chapter': current_chapter, 'section': current_section, 'page': current_page})\n",
    "                            current_section = ''         # bump into a new chapter before new section => reset section header\n",
    "                        elif current_chapter:\n",
    "                            meta.append({'chapter': current_chapter, 'section': current_chapter, 'page': current_page})\n",
    "                        else:                            # first page of doc => neither chapter nor section \n",
    "                            meta.append({'chapter': current_text, 'section': current_text, 'page': current_page})\n",
    "                        for s in meta:\n",
    "                            if s['chapter'] == current_chapter:\n",
    "                                s['lastPage'] = page\n",
    "\n",
    "                        current_page = page\n",
    "                        current_text = ''  \n",
    "                        current_chapter = text           # remove trailing white spaces in chapter\n",
    "                        continue\n",
    "                \n",
    "                if text[-1].isalpha() or text[-1].isdigit() or text[-1] in \")]\\}>\":\n",
    "                    current_text += text + '. '\n",
    "                else:\n",
    "                    current_text += text\n",
    "\n",
    "sections.append(f'{current_chapter}, {current_text}')      # add in final section\n",
    "if current_section:\n",
    "    meta.append({'section': current_section, 'page': current_page})\n",
    "else:\n",
    "    meta.append({'section': current_chapter, 'page': current_page})\n",
    "\n",
    "# sections"
   ]
  },
  {
   "cell_type": "markdown",
   "metadata": {},
   "source": [
    "<b> Initiate embedding instance"
   ]
  },
  {
   "cell_type": "code",
   "execution_count": 5,
   "metadata": {},
   "outputs": [
    {
     "name": "stdout",
     "output_type": "stream",
     "text": [
      "load INSTRUCTOR_Transformer\n",
      "max_seq_length  512\n"
     ]
    },
    {
     "data": {
      "text/plain": [
       "(93, 768)"
      ]
     },
     "execution_count": 5,
     "metadata": {},
     "output_type": "execute_result"
    }
   ],
   "source": [
    "# embedding_model=INSTRUCTOR(os.path.join('utils','model_cache','hkunlp_instructor-xl')) # local directory\n",
    "embedding_model = INSTRUCTOR(\"hkunlp/instructor-large\")                                  # from huggingface\n",
    "\n",
    "# 4 characters = 1 token, check this part (split into smaller para if need?)\n",
    "embedding_model.max_seq_length = 768\n",
    "\n",
    "# embeddings = embedding_model.encode([doc.lower() for doc in documents_embedding_read])\n",
    "embeddings = embedding_model.encode([s.lower() for s in sections])\n",
    "embeddings.shape"
   ]
  },
  {
   "cell_type": "markdown",
   "metadata": {},
   "source": [
    "<b> Store embeddings locally"
   ]
  },
  {
   "cell_type": "code",
   "execution_count": 6,
   "metadata": {},
   "outputs": [],
   "source": [
    "chroma_client = chromadb.PersistentClient(\n",
    "                path=os.path.join('chroma'))\n",
    "\n",
    "chroma_client.delete_collection(name=\"data\")\n",
    "collection = chroma_client.get_or_create_collection(name=\"data\", embedding_function = embedding_model)"
   ]
  },
  {
   "cell_type": "markdown",
   "metadata": {},
   "source": [
    "add data to collection; do not run this cell multiple times unless delete collection in previous cell"
   ]
  },
  {
   "cell_type": "code",
   "execution_count": 7,
   "metadata": {},
   "outputs": [],
   "source": [
    "collection.add(\n",
    "    documents=[f'para{str(i+1).zfill(4)}' for i in range(len(sections))],    # can be a list of docs\n",
    "    embeddings=embeddings.tolist(),\n",
    "    metadatas=meta,\n",
    "    ids=[f'{i}' for i in range(len(sections))])\n",
    "\n",
    "# collection.peek() # returns a list of the first 10 items in the collection\n",
    "# collection.count() # returns the number of items in the collection"
   ]
  },
  {
   "cell_type": "markdown",
   "metadata": {},
   "source": [
    "# Query (restart session)"
   ]
  },
  {
   "cell_type": "code",
   "execution_count": null,
   "metadata": {},
   "outputs": [],
   "source": [
    "# import chromadb\n",
    "# from chromadb.config import Settings\n",
    "# import re\n",
    "# from transformers import (\n",
    "#     AutoModelForSeq2SeqLM,\n",
    "#     AutoTokenizer\n",
    "# )\n",
    "\n",
    "# embedding_model=INSTRUCTOR(os.path.join('utils','model_cache','hkunlp_instructor-xl'))\n",
    "# embedding_model.max_seq_length = 768\n",
    "# chroma_client = chromadb.PersistentClient(\n",
    "#                 path=os.path.join('chroma'))\n",
    "\n",
    "# collection = chroma_client.get_collection(name=\"data\", embedding_function = embedding_model)\n"
   ]
  },
  {
   "cell_type": "code",
   "execution_count": 433,
   "metadata": {},
   "outputs": [],
   "source": [
    "# from InstructorEmbedding import INSTRUCTOR\n",
    "# import chromadb\n",
    "# from chromadb.config import Settings\n",
    "# from transformers import (\n",
    "#     AutoModelForSeq2SeqLM,\n",
    "#     AutoTokenizer\n",
    "# )\n",
    "\n",
    "# import os\n",
    "# import re\n",
    "# import docx\n",
    "\n",
    "# def getText(filename):\n",
    "#     doc = docx.Document(filename)\n",
    "#     fullText = []\n",
    "#     for para in doc.paragraphs:\n",
    "#         if para.text:    # remove empty paragraphs\n",
    "#             fullText.append(para.text)\n",
    "#     # return '\\n'.join(fullText)\n",
    "#     return fullText\n",
    "\n",
    "# UPS_doc = getText(\"UPS troubleshooting.docx\")\n",
    "\n",
    "# embedding_model = INSTRUCTOR(\"hkunlp/instructor-large\")\n",
    "# embedding_model.max_seq_length = 768\n",
    "# embeddings = embedding_model.encode([para.lower() for para in UPS_doc])\n",
    "\n",
    "# chroma_client = chromadb.PersistentClient(\n",
    "#                 path=os.path.join('chroma'))\n",
    "# collection = chroma_client.get_collection(name=\"data\", embedding_function = embedding_model)"
   ]
  },
  {
   "cell_type": "markdown",
   "metadata": {},
   "source": [
    "<b> Query"
   ]
  },
  {
   "cell_type": "code",
   "execution_count": 27,
   "metadata": {},
   "outputs": [
    {
     "data": {
      "text/plain": [
       "{'ids': [['40', '42', '7', '51', '50']],\n",
       " 'distances': [[0.1596343887140919,\n",
       "   0.24730938694280988,\n",
       "   0.2566268243901678,\n",
       "   0.2648633366078229,\n",
       "   0.26496048265439937]],\n",
       " 'metadatas': [[{'chapter': 'Coil Warnings - Protocol Was Fixed',\n",
       "    'lastPage': 30,\n",
       "    'page': 28,\n",
       "    'section': 'Coil Warnings - Protocol Was Fixed'},\n",
       "   {'chapter': 'Coil Warnings - Protocol Was Fixed',\n",
       "    'lastPage': 30,\n",
       "    'page': 28,\n",
       "    'section': 'Anterior or Posterior Protocol Fixed Warning Messages'},\n",
       "   {'chapter': 'Scanner Operation',\n",
       "    'lastPage': 11,\n",
       "    'page': 5,\n",
       "    'section': 'MR Scanner Error Save Log'},\n",
       "   {'chapter': 'Prisma VE11C Scanner Warnings/Messages/Errors',\n",
       "    'lastPage': 34,\n",
       "    'page': 32,\n",
       "    'section': 'Participant Registration Errors'},\n",
       "   {'chapter': 'Prisma VE11C Scanner Warnings/Messages/Errors',\n",
       "    'lastPage': 34,\n",
       "    'page': 32,\n",
       "    'section': 'Gradient Power Amplifier Warning'}]],\n",
       " 'embeddings': None,\n",
       " 'documents': [['para0041', 'para0043', 'para0008', 'para0052', 'para0051']]}"
      ]
     },
     "execution_count": 27,
     "metadata": {},
     "output_type": "execute_result"
    }
   ],
   "source": [
    "# query = \"how to check your scan data?\"\n",
    "# query = \"how to turn on mri scanner?\"\n",
    "query = \"warning messages while scanning?\"\n",
    "# query = \"how to run scan?\"  try again after runninng llm\n",
    "\n",
    "query_embeddings = embedding_model.encode(query.lower()).tolist()\n",
    "results = collection.query(\n",
    "            query_embeddings=query_embeddings, \n",
    "            n_results=5)\n",
    "\n",
    "results"
   ]
  },
  {
   "cell_type": "markdown",
   "metadata": {},
   "source": [
    "<b> Return best-match section"
   ]
  },
  {
   "cell_type": "code",
   "execution_count": 9,
   "metadata": {},
   "outputs": [
    {
     "data": {
      "text/plain": [
       "'Scanner Operation: How to Turn on the MRI Scanner/Computer. 1.You must first press the “system on” button on the Siemens scanner control box located. on the wall next to the MR Scanner window. 2.It will take approximately 15 minutes for the system to completely boot up. 3.After a successful reboot you will hear 3 small beeps and the LCD will come back on. '"
      ]
     },
     "execution_count": 9,
     "metadata": {},
     "output_type": "execute_result"
    }
   ],
   "source": [
    "sections[int(results['ids'][0][0])]"
   ]
  },
  {
   "cell_type": "markdown",
   "metadata": {},
   "source": [
    "<b> Return image(s) from respective section"
   ]
  },
  {
   "cell_type": "code",
   "execution_count": 28,
   "metadata": {},
   "outputs": [
    {
     "ename": "KeyError",
     "evalue": "'Coil Warnings - Protocol Was Fixed'",
     "output_type": "error",
     "traceback": [
      "\u001b[1;31m---------------------------------------------------------------------------\u001b[0m",
      "\u001b[1;31mKeyError\u001b[0m                                  Traceback (most recent call last)",
      "\u001b[1;32mc:\\Users\\user\\Documents\\RAG Prototype\\RAG.ipynb Cell 22\u001b[0m line \u001b[0;36m7\n\u001b[0;32m      <a href='vscode-notebook-cell:/c%3A/Users/user/Documents/RAG%20Prototype/RAG.ipynb#X30sZmlsZQ%3D%3D?line=3'>4</a>\u001b[0m     img_list \u001b[39m=\u001b[39m [img[\u001b[39m'\u001b[39m\u001b[39mbytes\u001b[39m\u001b[39m'\u001b[39m] \u001b[39mfor\u001b[39;00m img \u001b[39min\u001b[39;00m image_storage[section]]\n\u001b[0;32m      <a href='vscode-notebook-cell:/c%3A/Users/user/Documents/RAG%20Prototype/RAG.ipynb#X30sZmlsZQ%3D%3D?line=4'>5</a>\u001b[0m     \u001b[39mreturn\u001b[39;00m img_list\n\u001b[1;32m----> <a href='vscode-notebook-cell:/c%3A/Users/user/Documents/RAG%20Prototype/RAG.ipynb#X30sZmlsZQ%3D%3D?line=6'>7</a>\u001b[0m retrieve_images(results)\n",
      "\u001b[1;32mc:\\Users\\user\\Documents\\RAG Prototype\\RAG.ipynb Cell 22\u001b[0m line \u001b[0;36m3\n\u001b[0;32m      <a href='vscode-notebook-cell:/c%3A/Users/user/Documents/RAG%20Prototype/RAG.ipynb#X30sZmlsZQ%3D%3D?line=0'>1</a>\u001b[0m \u001b[39mdef\u001b[39;00m \u001b[39mretrieve_images\u001b[39m(results):\n\u001b[0;32m      <a href='vscode-notebook-cell:/c%3A/Users/user/Documents/RAG%20Prototype/RAG.ipynb#X30sZmlsZQ%3D%3D?line=1'>2</a>\u001b[0m     section \u001b[39m=\u001b[39m results[\u001b[39m'\u001b[39m\u001b[39mmetadatas\u001b[39m\u001b[39m'\u001b[39m][\u001b[39m0\u001b[39m][\u001b[39m0\u001b[39m][\u001b[39m'\u001b[39m\u001b[39msection\u001b[39m\u001b[39m'\u001b[39m]\n\u001b[1;32m----> <a href='vscode-notebook-cell:/c%3A/Users/user/Documents/RAG%20Prototype/RAG.ipynb#X30sZmlsZQ%3D%3D?line=2'>3</a>\u001b[0m     \u001b[39mprint\u001b[39m(image_storage[section])\n\u001b[0;32m      <a href='vscode-notebook-cell:/c%3A/Users/user/Documents/RAG%20Prototype/RAG.ipynb#X30sZmlsZQ%3D%3D?line=3'>4</a>\u001b[0m     img_list \u001b[39m=\u001b[39m [img[\u001b[39m'\u001b[39m\u001b[39mbytes\u001b[39m\u001b[39m'\u001b[39m] \u001b[39mfor\u001b[39;00m img \u001b[39min\u001b[39;00m image_storage[section]]\n\u001b[0;32m      <a href='vscode-notebook-cell:/c%3A/Users/user/Documents/RAG%20Prototype/RAG.ipynb#X30sZmlsZQ%3D%3D?line=4'>5</a>\u001b[0m     \u001b[39mreturn\u001b[39;00m img_list\n",
      "\u001b[1;31mKeyError\u001b[0m: 'Coil Warnings - Protocol Was Fixed'"
     ]
    }
   ],
   "source": [
    "# def retrieve_images(results):\n",
    "#     section = results['metadatas'][0][0]['section']\n",
    "#     img_list = [img['bytes'] for img in image_storage[section]]\n",
    "#     return img_list\n",
    "\n",
    "# retrieve_images(results)"
   ]
  },
  {
   "cell_type": "code",
   "execution_count": 603,
   "metadata": {},
   "outputs": [
    {
     "data": {
      "image/png": "[encoded data removed]",
      "text/plain": [
       "<PIL.JpegImagePlugin.JpegImageFile image mode=RGB size=364x194>"
      ]
     },
     "metadata": {},
     "output_type": "display_data"
    }
   ],
   "source": [
    "for img in retrieve_images(results):\n",
    "    print_image(img)"
   ]
  },
  {
   "cell_type": "code",
   "execution_count": 53,
   "metadata": {},
   "outputs": [],
   "source": [
    "## Due to incorrect interpretation of image and text order from pdf document, extract all images in that chapter\n",
    "\n",
    "def retrieve_pages(results, top_n_sections=1):\n",
    "    return [p for p in range(results['metadatas'][0][0]['page'], results['metadatas'][0][0]['lastPage'])]\n",
    "\n",
    "def retrieve_chapter_images(results):\n",
    "    page_numbers = retrieve_pages(results)\n",
    "    image_list = []\n",
    "    ext_list = []\n",
    "    for page in page_numbers:\n",
    "        blocks = doc[page].get_text(\"dict\", flags=4)[\"blocks\"]\n",
    "        for b in blocks:                                # iterate through the text blocks\n",
    "            if b['type'] == 1:                          # detecting image\n",
    "                image_list.append(b['image'])\n",
    "                ext_list.append(b['ext'])\n",
    "    return (image_list, ext_list)\n",
    "\n",
    "# retrieve_chapter_images(results)"
   ]
  },
  {
   "cell_type": "markdown",
   "metadata": {},
   "source": [
    "<b> Return respective page(s)"
   ]
  },
  {
   "cell_type": "code",
   "execution_count": 54,
   "metadata": {},
   "outputs": [
    {
     "data": {
      "text/plain": [
       "{'chapter': 'Coil Warnings - Protocol Was Fixed',\n",
       " 'lastPage': 30,\n",
       " 'page': 28,\n",
       " 'section': 'Coil Warnings - Protocol Was Fixed'}"
      ]
     },
     "execution_count": 54,
     "metadata": {},
     "output_type": "execute_result"
    },
    {
     "name": "stderr",
     "output_type": "stream",
     "text": [
      "Traceback (most recent call last):\n",
      "  File \"c:\\Users\\user\\anaconda3\\Lib\\site-packages\\gradio\\routes.py\", line 507, in predict\n",
      "    output = await route_utils.call_process_api(\n",
      "             ^^^^^^^^^^^^^^^^^^^^^^^^^^^^^^^^^^^\n",
      "  File \"c:\\Users\\user\\anaconda3\\Lib\\site-packages\\gradio\\route_utils.py\", line 219, in call_process_api\n",
      "    output = await app.get_blocks().process_api(\n",
      "             ^^^^^^^^^^^^^^^^^^^^^^^^^^^^^^^^^^^\n",
      "  File \"c:\\Users\\user\\anaconda3\\Lib\\site-packages\\gradio\\blocks.py\", line 1437, in process_api\n",
      "    result = await self.call_function(\n",
      "             ^^^^^^^^^^^^^^^^^^^^^^^^^\n",
      "  File \"c:\\Users\\user\\anaconda3\\Lib\\site-packages\\gradio\\blocks.py\", line 1109, in call_function\n",
      "    prediction = await anyio.to_thread.run_sync(\n",
      "                 ^^^^^^^^^^^^^^^^^^^^^^^^^^^^^^^\n",
      "  File \"c:\\Users\\user\\anaconda3\\Lib\\site-packages\\anyio\\to_thread.py\", line 28, in run_sync\n",
      "    return await get_asynclib().run_sync_in_worker_thread(func, *args, cancellable=cancellable,\n",
      "           ^^^^^^^^^^^^^^^^^^^^^^^^^^^^^^^^^^^^^^^^^^^^^^^^^^^^^^^^^^^^^^^^^^^^^^^^^^^^^^^^^^^^\n",
      "  File \"c:\\Users\\user\\anaconda3\\Lib\\site-packages\\anyio\\_backends\\_asyncio.py\", line 818, in run_sync_in_worker_thread\n",
      "    return await future\n",
      "           ^^^^^^^^^^^^\n",
      "  File \"c:\\Users\\user\\anaconda3\\Lib\\site-packages\\anyio\\_backends\\_asyncio.py\", line 754, in run\n",
      "    result = context.run(func, *args)\n",
      "             ^^^^^^^^^^^^^^^^^^^^^^^^\n",
      "  File \"c:\\Users\\user\\anaconda3\\Lib\\site-packages\\gradio\\utils.py\", line 641, in wrapper\n",
      "    response = f(*args, **kwargs)\n",
      "               ^^^^^^^^^^^^^^^^^^\n",
      "  File \"C:\\Users\\user\\AppData\\Local\\Temp\\ipykernel_4632\\1809415222.py\", line 29, in overall\n",
      "    ans3 = get_chapter_images(results)\n",
      "           ^^^^^^^^^^^^^^^^^^^^^^^^^^^\n",
      "  File \"C:\\Users\\user\\AppData\\Local\\Temp\\ipykernel_4632\\1809415222.py\", line 22, in get_chapter_images\n",
      "    save_image(pics[0][i], pics[1][i], f'pic{i}')\n",
      "               ~~~~~~~^^^\n",
      "IndexError: list index out of range\n"
     ]
    }
   ],
   "source": [
    "results['metadatas'][0][0]"
   ]
  },
  {
   "cell_type": "code",
   "execution_count": 13,
   "metadata": {},
   "outputs": [
    {
     "data": {
      "image/png": "[encoded data removed]",
      "text/plain": [
       "<PIL.PngImagePlugin.PngImageFile image mode=RGB size=612x792>"
      ]
     },
     "metadata": {},
     "output_type": "display_data"
    }
   ],
   "source": [
    "def retrieve_pages(results, top_n_sections=1):\n",
    "    return [p for p in range(results['metadatas'][0][0]['page'], results['metadatas'][0][0]['lastPage'])]\n",
    "\n",
    "# print(retrieve_pages(results))\n",
    "\n",
    "def retrieve_pages_images(results, top_n_sections=1):\n",
    "    page_numbers = retrieve_pages(results, top_n_sections)\n",
    "    return [doc[p].get_pixmap().tobytes() for p in page_numbers] \n",
    "\n",
    "# print(retrieve_pages_images(results))\n",
    "\n",
    "print_image(retrieve_pages_images(results)[0])"
   ]
  },
  {
   "cell_type": "markdown",
   "metadata": {},
   "source": []
  },
  {
   "cell_type": "code",
   "execution_count": 14,
   "metadata": {},
   "outputs": [
    {
     "data": {
      "text/plain": [
       "{'ids': ['15', '27', '62', '80', '84'],\n",
       " 'embeddings': None,\n",
       " 'metadatas': [{'chapter': 'How to Burn a CD From The Scanner Console',\n",
       "   'lastPage': 15,\n",
       "   'page': 14,\n",
       "   'section': 'How to Burn a CD From The Scanner Console'},\n",
       "  {'chapter': 'How to Run the ABCD Phantom QA',\n",
       "   'lastPage': 23,\n",
       "   'page': 19,\n",
       "   'section': 'Registration Pictures'},\n",
       "  {'chapter': 'Optoacoustics Headphone and Microphone Setup',\n",
       "   'lastPage': 44,\n",
       "   'page': 40,\n",
       "   'section': 'Setting up the Opto Console'},\n",
       "  {'chapter': 'How to Use the MR Camera',\n",
       "   'lastPage': 53,\n",
       "   'page': 51,\n",
       "   'section': 'Quick Overview'},\n",
       "  {'chapter': 'How to Use the MR Camera',\n",
       "   'lastPage': 53,\n",
       "   'page': 51,\n",
       "   'section': 'Camera Cleanup'}],\n",
       " 'documents': ['para0016', 'para0028', 'para0063', 'para0081', 'para0085']}"
      ]
     },
     "execution_count": 14,
     "metadata": {},
     "output_type": "execute_result"
    }
   ],
   "source": [
    "collection.get(\n",
    "    ids=['15', '27', '84', '80', '62']\n",
    ")"
   ]
  },
  {
   "cell_type": "code",
   "execution_count": 302,
   "metadata": {},
   "outputs": [],
   "source": [
    "## gpu-enabled (for sandbox)\n",
    "\n",
    "# qna_model = AutoModelForSeq2SeqLM.from_pretrained(os.path.join('utils','model_cache','models--google--flan-t5-large') ,local_files_only=True).to('cuda')\n",
    "# qna_tokenizer = AutoTokenizer.from_pretrained(os.path.join('utils','model_cache','models--google--flan-t5-large') ,local_files_only=True, legacy=False)"
   ]
  },
  {
   "cell_type": "code",
   "execution_count": 873,
   "metadata": {},
   "outputs": [],
   "source": [
    "## Flan-t5\n",
    "size=\"base\" #large: 783M param, base:248M param\n",
    "model_id = f\"google/flan-t5-{size}\"\n",
    "\n",
    "## Bart\n",
    "# model_id='slauw87/bart_summarisation'\n",
    "# model_id = 'buddhilive/bert-finetuned-squad'\n",
    "\n",
    "\n",
    "tokenizer = AutoTokenizer.from_pretrained(model_id)\n",
    "model = AutoModelForSeq2SeqLM.from_pretrained(model_id)"
   ]
  },
  {
   "cell_type": "code",
   "execution_count": 849,
   "metadata": {},
   "outputs": [
    {
     "name": "stdout",
     "output_type": "stream",
     "text": [
      "Scanner Operation: How to Turn on the MRI Scanner/Computer. 1.You must first press the “system on” button on the Siemens scanner control box located. on the wall next to the MR Scanner window. 2.It will take approximately 15 minutes for the system to completely boot up. 3.After a successful reboot you will hear 3 small beeps and the LCD will come back on. \n",
      "Scanner Operation: How to Restart the Coldhead. 1.In case of a power-surge, or other problem, the Coldhead may need to be restarted. 2.You will know the Coldhead has been shut off if you do NOT hear the steady “chirping”noise in the scanner room. 3.Enter the equipment room (through the sliding glass door) and look at the south wall (as. shown below). 4.The coldhead is the white “box” next to the large cabinet. 5.Walk over and look at the front of the coldhead and you will see the Coldhead controls. (shown above). 6.Press the ON button and the Coldhead should turn back on. 7.Please be sure to notify. BMCTechs@mednet.ucla.edu.  and/or Dr. Woods if this occurs. 7. \n",
      "Scanner Operation: How to Turn Off the MRI Scanner/Computer (Full Shutdown). This type of full shutdown takes approximately 20 minutes – try this method if a “Standby. ”reboot did clear the issue. 1.Make sure the scanner bed is at the home position (all the way up and all the way out). 2.If a coil is on the table, all elements should be plugged in. 3.Click the “System” tab at the top of the screen. 4. Click on “End Session”5.Click “Shutdown System”6.It will take approximately 5 minutes before you see “it is now safe to turn off your. computer”4. 7.Press the blue “system off” button on the Siemens scanner control box located on the. wall next to the MR Scanner window. 8.Wait 5min before turning the system back on. \n",
      "University of California, Los Angeles: BMC Contacts ............................................................................................................................... 1. Scanner Operation ........................................................................................................................ 2. •How to do a “Standby” Reboot ............................................................................... 2. •How to Turn Off the MRI Scanner/Computer (Full Shutdown)............................. 3. •How to Turn on the MRI Scanner/Computer ......................................................... 4. •MR Scanner Error Save Log ................................................................................... 4. •How to Check the System Manager........................................................................ 5. •How to Restart the Coldhead .................................................................................. 6. •How to Reboot the Chiller ...................................................................................... 7. Re-import DICOM Data .............................................................................................................. 8. •How to Map a Dicom Network Folder on the Scanner Console to Re-import a. Scan ......................................................................................................................... 8. Export and Save Raw Data Files (.RDA and TWIX Raw) ....................................................... 9. •How to Map a Non-Dicom Network Folder on the Scanner Console .................... 9. •How to Create a Spectroscopy .RDA File .............................................................. 9. •How to Transfer Raw Data Using TWIX Software .............................................. 10. How to Burn a CD From The Scanner Console ....................................................................... 11. Prisma Cleanup Procedures....................................................................................................... 12. •General Cleanup Guidelines ................................................................................. 12. Squeeze Ball/Button Alarm ........................................................................................................ 13. •What to do when the Squeeze Ball/Button Alarm Goes Off ................................ 13. •Reset the Table ...................................................................................................... 13. How to Run the Stability Warmup............................................................................................ 14. •Setting up the Phantom ......................................................................................... 14. •Register Phantom .................................................................................................. 14. •Running Scans ...................................................................................................... 14. •Registration Pictures ............................................................................................. 15. How to Run the ABCD Phantom QA ........................................................................................ 16. •Setting up the Phantom ......................................................................................... 16. •Register the Phantom ............................................................................................ 17. •Running Scans ...................................................................................................... 18. •Registration Pictures ............................................................................................. 19. How to Trigger Test Stimuli/Tasks ........................................................................................... 20. •Setting up the Phantom ......................................................................................... 20. •Register Phantom .................................................................................................. 20. •Running Scans ...................................................................................................... 20. •Registration Pictures ............................................................................................. 21. Quality Assurance: How to Check Your Scan Data ................................................................ 22. •Check Your Localizer ........................................................................................... 22. •Verify Full Coverage of the Brain ........................................................................ 22. •Check for Dropout in Your Slices ........................................................................ 24. •Check to Make Sure Your Head Coils Are Attached ........................................... 24. •Check That the Table is at Isocenter ..................................................................... 24. •Check Your AutoAlign Angle .............................................................................. 24. Coil Warnings - Protocol Was Fixed ......................................................................................... 25. •Main Reasons for Coil Warnings .......................................................................... 25. •Anterior or Posterior Protocol Fixed Warning Messages ..................................... 25. •Resolution ............................................................................................................. 25. •Wrong Coil Protocol Fixed Warning Messages ................................................... 25. Prisma VE11C Software Bugs ................................................................................................... 27. •AutoAlign Re-Run Failure .................................................................................... 27. •AP/PA Copy Reference Issue ............................................................................... 28. •Reconstruction Error (aka Blob error) .................................................................. 28. Prisma VE11C Scanner Warnings/Messages/Errors .............................................................. 29. •Adjustment Measurement Was Aborted ............................................................... 29. •Gradient Power Amplifier Warning ...................................................................... 29. •Participant Registration Errors .............................................................................. 30. Preparation Scans (aka dummy time)....................................................................................... 31. •Preparation Scans (dummy time) for CMRR/HCP Multiband Sequences ........... 31. •Preparation Scans (dummy time) for Regular BOLD Sequences ......................... 31. •Slice Timing for BOLD Sequences and other BOLD Questions ......................... 31. •How to Manually Trigger Stimuli......................................................................... 32. Current Designs Button Box and Trigger Setup (FORP 932) ................................................ 33. •Device Selection ................................................................................................... 33. •Response Settings ................................................................................................. 33. •Troubleshooting .................................................................................................... 34. Siemens Talk Box Setup ............................................................................................................. 36. Optoacoustics Headphone and Microphone Setup .................................................................. 37. •Positioning the Participant .................................................................................... 37. •Setting up the Opto Console ................................................................................. 37. •Using Active Noise Cancellation .......................................................................... 38. •Troubleshooting Tips ............................................................................................ 39. BOLDScreen LCD ...................................................................................................................... 41. •Specifications ........................................................................................................ 41. •Turning on the LCD .............................................................................................. 41. •Positioning the Participant .................................................................................... 41. •Troubleshooting Tips ............................................................................................ 42. How to use E-Prime with the Desktop Computer and LCD ................................................... 43. •Duplicate/Mirrored Display with E-Prime ............................................................ 43. •Extended Display with E-Prime............................................................................ 43. •Switching from Extended Display to Duplicate/Mirrored Display ...................... 43. Siemens Physiological Device Setup .......................................................................................... 44. •ECG/Respiratory Setup ......................................................................................... 44. •Pulse Setup ............................................................................................................ 44. How to Use FIRMM to Monitor Motion during BOLD scans................................................ 45. •Quick Overview .................................................................................................... 45. •Setup the Scanner Console.................................................................................... 45. •Setup the Computer to View FIRMM .................................................................. 45. •Using FIRMM ....................................................................................................... 46. •HCP Guidelines (see full HCP SOP for more details) .......................................... 47. •After the Scan is Complete ................................................................................... 47. How to Use the MR Camera ...................................................................................................... 48. •Quick Overview .................................................................................................... 48. •Equipment ............................................................................................................. 48. •Camera Setup ........................................................................................................ 48. •Participant Setup ................................................................................................... 49. •Camera Cleanup .................................................................................................... 49. •Troubleshooting Tips ............................................................................................ 49. Equipment Manuals.................................................................................................................... 50. •Current Designs Button Box and Trigger Manual - Forp 932 .............................. 50. •ViewPoint Eyetracker User Guide* ...................................................................... 50. •ViewPoint Eyetracker Data Analysis Guide* ....................................................... 50. •Optoacoustics Manual ........................................................................................... 50. •MRI Safety Manual............................................................................................... 50. Movie List .................................................................................................................................... 51. 1. \n",
      "How to Trigger Test Stimuli/Tasks: Setting up the Phantom. 1.Place the phantom and phantom cushion inside the 20ch head coil (round end at top of. coil). 2.Secure the top half of the head coil by clicking it in and plugging in cable(s) if necessary. 3.Raise the table. 10.Turn on the laser light and set the landmark. 11.Slide the table fully into the scanner. 12.Close and flip the air seal on the scanner door. \n"
     ]
    }
   ],
   "source": [
    "for i in results['ids'][0]:\n",
    "    print(sections[int(i)])"
   ]
  },
  {
   "cell_type": "code",
   "execution_count": 852,
   "metadata": {},
   "outputs": [
    {
     "data": {
      "text/plain": [
       "' Scanner Operation: How to Turn on the MRI Scanner/Computer. 1.You must first press the “system on” button on the Siemens scanner control box located. on the wall next to the MR Scanner window. 2.It will take approximately 15 minutes for the system to completely boot up. 3.After a successful reboot you will hear 3 small beeps and the LCD will come back on.  Scanner Operation: How to Restart the Coldhead. 1.In case of a power-surge, or other problem, the Coldhead may need to be restarted. 2.You will know the Coldhead has been shut off if you do NOT hear the steady “chirping”noise in the scanner room. 3.Enter the equipment room (through the sliding glass door) and look at the south wall (as. shown below). 4.The coldhead is the white “box” next to the large cabinet. 5.Walk over and look at the front of the coldhead and you will see the Coldhead controls. (shown above). 6.Press the ON button and the Coldhead should turn back on. 7.Please be sure to notify. BMCTechs@mednet.ucla.edu.  and/or Dr. Woods if this occurs. 7.  Scanner Operation: How to Turn Off the MRI Scanner/Computer (Full Shutdown). This type of full shutdown takes approximately 20 minutes – try this method if a “Standby. ”reboot did clear the issue. 1.Make sure the scanner bed is at the home position (all the way up and all the way out). 2.If a coil is on the table, all elements should be plugged in. 3.Click the “System” tab at the top of the screen. 4. Click on “End Session”5.Click “Shutdown System”6.It will take approximately 5 minutes before you see “it is now safe to turn off your. computer”4. 7.Press the blue “system off” button on the Siemens scanner control box located on the. wall next to the MR Scanner window. 8.Wait 5min before turning the system back on.  University of California, Los Angeles: BMC Contacts ............................................................................................................................... 1. Scanner Operation ........................................................................................................................ 2. •How to do a “Standby” Reboot ............................................................................... 2. •How to Turn Off the MRI Scanner/Computer (Full Shutdown)............................. 3. •How to Turn on the MRI Scanner/Computer ......................................................... 4. •MR Scanner Error Save Log ................................................................................... 4. •How to Check the System Manager........................................................................ 5. •How to Restart the Coldhead .................................................................................. 6. •How to Reboot the Chiller ...................................................................................... 7. Re-import DICOM Data .............................................................................................................. 8. •How to Map a Dicom Network Folder on the Scanner Console to Re-import a. Scan ......................................................................................................................... 8. Export and Save Raw Data Files (.RDA and TWIX Raw) ....................................................... 9. •How to Map a Non-Dicom Network Folder on the Scanner Console .................... 9. •How to Create a Spectroscopy .RDA File .............................................................. 9. •How to Transfer Raw Data Using TWIX Software .............................................. 10. How to Burn a CD From The Scanner Console ....................................................................... 11. Prisma Cleanup Procedures....................................................................................................... 12. •General Cleanup Guidelines ................................................................................. 12. Squeeze Ball/Button Alarm ........................................................................................................ 13. •What to do when the Squeeze Ball/Button Alarm Goes Off ................................ 13. •Reset the Table ...................................................................................................... 13. How to Run the Stability Warmup............................................................................................ 14. •Setting up the Phantom ......................................................................................... 14. •Register Phantom .................................................................................................. 14. •Running Scans ...................................................................................................... 14. •Registration Pictures ............................................................................................. 15. How to Run the ABCD Phantom QA ........................................................................................ 16. •Setting up the Phantom ......................................................................................... 16. •Register the Phantom ............................................................................................ 17. •Running Scans ...................................................................................................... 18. •Registration Pictures ............................................................................................. 19. How to Trigger Test Stimuli/Tasks ........................................................................................... 20. •Setting up the Phantom ......................................................................................... 20. •Register Phantom .................................................................................................. 20. •Running Scans ...................................................................................................... 20. •Registration Pictures ............................................................................................. 21. Quality Assurance: How to Check Your Scan Data ................................................................ 22. •Check Your Localizer ........................................................................................... 22. •Verify Full Coverage of the Brain ........................................................................ 22. •Check for Dropout in Your Slices ........................................................................ 24. •Check to Make Sure Your Head Coils Are Attached ........................................... 24. •Check That the Table is at Isocenter ..................................................................... 24. •Check Your AutoAlign Angle .............................................................................. 24. Coil Warnings - Protocol Was Fixed ......................................................................................... 25. •Main Reasons for Coil Warnings .......................................................................... 25. •Anterior or Posterior Protocol Fixed Warning Messages ..................................... 25. •Resolution ............................................................................................................. 25. •Wrong Coil Protocol Fixed Warning Messages ................................................... 25. Prisma VE11C Software Bugs ................................................................................................... 27. •AutoAlign Re-Run Failure .................................................................................... 27. •AP/PA Copy Reference Issue ............................................................................... 28. •Reconstruction Error (aka Blob error) .................................................................. 28. Prisma VE11C Scanner Warnings/Messages/Errors .............................................................. 29. •Adjustment Measurement Was Aborted ............................................................... 29. •Gradient Power Amplifier Warning ...................................................................... 29. •Participant Registration Errors .............................................................................. 30. Preparation Scans (aka dummy time)....................................................................................... 31. •Preparation Scans (dummy time) for CMRR/HCP Multiband Sequences ........... 31. •Preparation Scans (dummy time) for Regular BOLD Sequences ......................... 31. •Slice Timing for BOLD Sequences and other BOLD Questions ......................... 31. •How to Manually Trigger Stimuli......................................................................... 32. Current Designs Button Box and Trigger Setup (FORP 932) ................................................ 33. •Device Selection ................................................................................................... 33. •Response Settings ................................................................................................. 33. •Troubleshooting .................................................................................................... 34. Siemens Talk Box Setup ............................................................................................................. 36. Optoacoustics Headphone and Microphone Setup .................................................................. 37. •Positioning the Participant .................................................................................... 37. •Setting up the Opto Console ................................................................................. 37. •Using Active Noise Cancellation .......................................................................... 38. •Troubleshooting Tips ............................................................................................ 39. BOLDScreen LCD ...................................................................................................................... 41. •Specifications ........................................................................................................ 41. •Turning on the LCD .............................................................................................. 41. •Positioning the Participant .................................................................................... 41. •Troubleshooting Tips ............................................................................................ 42. How to use E-Prime with the Desktop Computer and LCD ................................................... 43. •Duplicate/Mirrored Display with E-Prime ............................................................ 43. •Extended Display with E-Prime............................................................................ 43. •Switching from Extended Display to Duplicate/Mirrored Display ...................... 43. Siemens Physiological Device Setup .......................................................................................... 44. •ECG/Respiratory Setup ......................................................................................... 44. •Pulse Setup ............................................................................................................ 44. How to Use FIRMM to Monitor Motion during BOLD scans................................................ 45. •Quick Overview .................................................................................................... 45. •Setup the Scanner Console.................................................................................... 45. •Setup the Computer to View FIRMM .................................................................. 45. •Using FIRMM ....................................................................................................... 46. •HCP Guidelines (see full HCP SOP for more details) .......................................... 47. •After the Scan is Complete ................................................................................... 47. How to Use the MR Camera ...................................................................................................... 48. •Quick Overview .................................................................................................... 48. •Equipment ............................................................................................................. 48. •Camera Setup ........................................................................................................ 48. •Participant Setup ................................................................................................... 49. •Camera Cleanup .................................................................................................... 49. •Troubleshooting Tips ............................................................................................ 49. Equipment Manuals.................................................................................................................... 50. •Current Designs Button Box and Trigger Manual - Forp 932 .............................. 50. •ViewPoint Eyetracker User Guide* ...................................................................... 50. •ViewPoint Eyetracker Data Analysis Guide* ....................................................... 50. •Optoacoustics Manual ........................................................................................... 50. •MRI Safety Manual............................................................................................... 50. Movie List .................................................................................................................................... 51. 1.  How to Trigger Test Stimuli/Tasks: Setting up the Phantom. 1.Place the phantom and phantom cushion inside the 20ch head coil (round end at top of. coil). 2.Secure the top half of the head coil by clicking it in and plugging in cable(s) if necessary. 3.Raise the table. 10.Turn on the laser light and set the landmark. 11.Slide the table fully into the scanner. 12.Close and flip the air seal on the scanner door. '"
      ]
     },
     "execution_count": 852,
     "metadata": {},
     "output_type": "execute_result"
    }
   ],
   "source": [
    "context"
   ]
  },
  {
   "cell_type": "code",
   "execution_count": 874,
   "metadata": {},
   "outputs": [
    {
     "data": {
      "text/plain": [
       "'You must first press the “system on” button on the Siemens scanner control box located on the wall next to the MR Scanner window'"
      ]
     },
     "execution_count": 874,
     "metadata": {},
     "output_type": "execute_result"
    }
   ],
   "source": [
    "def generate_ans(query, results, tokenizer=tokenizer, model=model, device='cuda'):\n",
    "\n",
    "    context = \"\"     # Concat paragraphs from top 5 id into context (defined in collection.query method)\n",
    "    for para in results['ids'][0]:\n",
    "        context += ' ' + sections[int(para)]\n",
    "\n",
    "    input_text = \"question: \" + query + \"</s> question_context: \" + context\n",
    "    # input_text = \"context: I have a basket of fruits containing bananas, oranges, and a rotten apple. After eating some fruits from the basket, I fell sick and went to the hospital. Question: Why did I fall sick?\"\n",
    "\n",
    "    input_tokenized = tokenizer.encode(input_text, return_tensors='pt', truncation=True, padding='max_length', max_length=768)#.to(device)\n",
    "    _tok_count_assessment = tokenizer.encode(input_text, return_tensors='pt', truncation=True)#.to(device)\n",
    "\n",
    "    summary_ids = model.generate(input_tokenized, \n",
    "                                       max_length=30, \n",
    "                                       min_length=5, \n",
    "                                       num_beams=5,\n",
    "                                       early_stopping=True,\n",
    "                                   )\n",
    "    output = [tokenizer.decode(id, clean_up_tokenization_spaces=True, skip_special_tokens=True) for id in summary_ids] \n",
    "\n",
    "    return str(output[0])\n",
    "\n",
    "generate_ans(query, results)"
   ]
  },
  {
   "cell_type": "code",
   "execution_count": 884,
   "metadata": {},
   "outputs": [
    {
     "data": {
      "text/plain": [
       "\"['fe', '13', 'fe1f']\""
      ]
     },
     "execution_count": 884,
     "metadata": {},
     "output_type": "execute_result"
    }
   ],
   "source": [
    "str(['fe', '13', 'fe1f'])"
   ]
  },
  {
   "cell_type": "markdown",
   "metadata": {},
   "source": [
    "<b> Gradio interface"
   ]
  },
  {
   "cell_type": "code",
   "execution_count": 59,
   "metadata": {},
   "outputs": [
    {
     "name": "stdout",
     "output_type": "stream",
     "text": [
      "Running on local URL:  http://127.0.0.1:7870\n",
      "\n",
      "To create a public link, set `share=True` in `launch()`.\n"
     ]
    },
    {
     "data": {
      "text/html": [
       "<div><iframe src=\"http://127.0.0.1:7870/\" width=\"100%\" height=\"500\" allow=\"autoplay; camera; microphone; clipboard-read; clipboard-write;\" frameborder=\"0\" allowfullscreen></iframe></div>"
      ],
      "text/plain": [
       "<IPython.core.display.HTML object>"
      ]
     },
     "metadata": {},
     "output_type": "display_data"
    },
    {
     "name": "stdout",
     "output_type": "stream",
     "text": [
      "jpeg\n"
     ]
    }
   ],
   "source": [
    "def overall(query):\n",
    "    def get_results(query):\n",
    "        query_embeddings = embedding_model.encode(query.lower()).tolist()\n",
    "        results = collection.query(\n",
    "                    query_embeddings=query_embeddings, \n",
    "                    n_results=5)\n",
    "        return results\n",
    "    def get_sections(results):\n",
    "        c = ''\n",
    "        for i in range(3):\n",
    "            c += f'{i+1}. {results[\"metadatas\"][0][i][\"section\"]} \\n'\n",
    "        return c\n",
    "    def get_pages(results):\n",
    "        pages = retrieve_pages(results)\n",
    "        pagePics = retrieve_pages_images(results)\n",
    "        for i in range(len(pagePics)):\n",
    "            save_image(pagePics[i], 'jpeg', f'temp{i}')\n",
    "        return [(f'images/temp{i}.jpeg', f'page {pages[i]}') for i in range(len(pages))] \n",
    "    def get_chapter_images(results):\n",
    "        pics = retrieve_chapter_images(results)\n",
    "        for i in pics[1]:\n",
    "            print(i)\n",
    "        for i in range(len(pics[0])):\n",
    "            save_image(pics[0][i], pics[1][i], f'pic{i}')\n",
    "        return [f'images/pic{i}.jpeg' for i in range(len(pics))]\n",
    "\n",
    "    results = get_results(query)\n",
    "    # ans = generate_ans(query, results)\n",
    "    ans = get_sections(results)\n",
    "    ans2 = get_pages(results)\n",
    "    ans3 = get_chapter_images(results)\n",
    "    return ans, ans2, ans3\n",
    "\n",
    "# def get_images(results):\n",
    "#     pics = retrieve_images(results)\n",
    "#     for i in range(len(pics)):\n",
    "#         save_image(pics[i], 'jpeg', f'pic{i}')\n",
    "#     return [f'images/pi{i}.jpeg' for i in range(len(pics))]\n",
    "\n",
    "\n",
    "theme = gr.themes.Default(primary_hue=\"blue\").set(\n",
    "    loader_color=\"#FF0000\",\n",
    "    slider_color=\"#FF0000\",\n",
    "    block_label_background_fill=\"#FF0022\",\n",
    "    # button_primary_background_fill=\"*primary_200\",\n",
    "    # button_primary_background_fill_hover=\"*primary_300\"\n",
    "    button_primary_background_fill=\"*FFA200\",\n",
    "    button_primary_background_fill_hover=\"*FFBB44\"\n",
    ")\n",
    "\n",
    "\n",
    "with gr.Blocks(theme=theme) as demo:\n",
    "# with gr.Blocks() as demo:\n",
    "\n",
    "    gr.Markdown(\"<center><h1> Sample text with center alignment</h1></center\")\n",
    "\n",
    "    css = \"\"\"\n",
    "            #warning {background-color: #4CAF50;\n",
    "                    border: none;\n",
    "                    color: white;\n",
    "                    padding: 15px 32px;\n",
    "                    text-align: center;\n",
    "                    font-size: 16px;\n",
    "                    }\n",
    "            .feedback textarea {font-size: 24px !important}\n",
    "            \"\"\"\n",
    "\n",
    "    with gr.Row():\n",
    "        with gr.Column():\n",
    "            txt_1 = gr.Textbox(label=\"Query\", lines=1)\n",
    "            btn = gr.Button(value=\"Submit\", elem_id=\"warning\", elem_classes=\"feedback\")\n",
    "            txt_2 = gr.Textbox(label=\"Refer to sections: \", lines=4)\n",
    "\n",
    "        img_1 = gr.Gallery(label=\"Relevant Pages\", show_label=True, elem_id=\"gallery\", \n",
    "                           columns=[1], rows=[2], object_fit=\"contain\", container=True, height=\"auto\")\n",
    "\n",
    "    img_2 = gr.Gallery(label=\"Relevant Pictures\", show_label=True, elem_id=\"gallery\", \n",
    "                           columns=[5], rows=[1], object_fit=\"contain\", height=200)\n",
    "\n",
    "    btn.click(overall, inputs=[txt_1], outputs=[txt_2, img_1, img_2])\n",
    "\n",
    "    gr.Markdown(\"### Query Examples\")\n",
    "    gr.Examples(\n",
    "        [[\"warning messages while scanning\", \"-\"], [\"how to burn cd?\", \"-\"], [\"button alarm goes off\", \"-\"], [\"how to scan data?\", \"-\"]],\n",
    "        [txt_1, txt_2],\n",
    "        txt_2,\n",
    "    )\n",
    "    # gr.Markdown(\"## Image Examples\")\n",
    "    # gr.Examples(\n",
    "    #     examples=[\"images/temp.jpeg\"],\n",
    "    #     inputs=img_1,\n",
    "    #     outputs=img_1,\n",
    "    # )\n",
    "\n",
    "    demo.launch()"
   ]
  },
  {
   "cell_type": "code",
   "execution_count": null,
   "metadata": {},
   "outputs": [],
   "source": [
    "# reset ports\n",
    "gr.close_all()"
   ]
  },
  {
   "cell_type": "code",
   "execution_count": null,
   "metadata": {},
   "outputs": [],
   "source": []
  },
  {
   "cell_type": "code",
   "execution_count": null,
   "metadata": {},
   "outputs": [],
   "source": []
  },
  {
   "cell_type": "code",
   "execution_count": null,
   "metadata": {},
   "outputs": [],
   "source": []
  },
  {
   "cell_type": "code",
   "execution_count": null,
   "metadata": {},
   "outputs": [],
   "source": []
  },
  {
   "cell_type": "code",
   "execution_count": null,
   "metadata": {},
   "outputs": [],
   "source": []
  },
  {
   "cell_type": "code",
   "execution_count": null,
   "metadata": {},
   "outputs": [],
   "source": [
    "## page represents section's first page number\n",
    "\n",
    "current_chapter = None     # big black headers\n",
    "current_section = None\n",
    "current_text = ''          # connects all sentences within same section\n",
    "sections = []              # sections are defined by blue labels within each chapter\n",
    "current_page = 0\n",
    "meta = []                 # page number(s) corresponding to each section, to be used for chroma collection metadata\n",
    "image_storage = {}\n",
    "\n",
    "\n",
    "for page in range(len(doc)):\n",
    "    blocks = doc[page].get_text(\"dict\", flags=4)[\"blocks\"]\n",
    "    for b in blocks:                                # iterate through the text blocks\n",
    "        if b['type'] == 1:                          # detecting image\n",
    "            if current_section in image_storage:\n",
    "                image_storage[current_section].append({'bytes': b['image'], 'ext': b['ext'], 'page': page})\n",
    "            elif current_section:                   # if current_section not yet in image_storage, and is not empty\n",
    "                image_storage.update({current_section: [{'bytes': b['image'], 'ext': b['ext'], 'page': page}]})\n",
    "            else:                                   # if current_section empty, use current_chapter\n",
    "                image_storage.update({current_chapter: [{'bytes': b['image'], 'ext': b['ext'], 'page': page}]})\n",
    "            continue\n",
    "\n",
    "        for l in b[\"lines\"]:                        # iterate through the text lines\n",
    "            for s in l[\"spans\"]:                    # iterate through the text spans\n",
    "\n",
    "                if s['text'].isspace():             # ignore blank spaces\n",
    "                    continue\n",
    "                if 'Revision Date' in s['text']:    # ignore irrelevant phrase\n",
    "                    continue\n",
    "\n",
    "                text = re.sub(r'\\s+$', '', s['text'])    # remove trailing white spaces in chapter\n",
    "\n",
    "                font_properties = {'font': s['font'], 'flags': flags_decomposer(s['flags']), 'size': s['size'], 'color': s['color']} \n",
    "                \n",
    "                if font_properties['color'] == 28608:    # current text is a section header\n",
    "                    if current_chapter and current_text:\n",
    "                        sections.append(f'{current_chapter}: {current_text}')\n",
    "                        # pages.append({current_section: current_page})\n",
    "                        if current_section:\n",
    "                            meta.append({'section': current_section, 'page': current_page})\n",
    "                        elif current_chapter:\n",
    "                            meta.append({'section': current_chapter, 'page': current_page})\n",
    "                        else:\n",
    "                            meta.append({'section': current_text, 'page': current_page})\n",
    "                    current_page = page\n",
    "                    current_section = text               # store name of 1st section after chapter headings, store with image\n",
    "                    current_text = ''                    # reset the text once detect a new section header\n",
    "                \n",
    "                if font_properties['size'] >= 14:        # current text is a chapter header\n",
    "                    if current_text:\n",
    "                        sections.append(f'{current_chapter}: {current_text}')\n",
    "                        if current_section:\n",
    "                            meta.append({'section': current_section, 'page': current_page})\n",
    "                            current_section = ''         # bump into a new chapter before new section => reset section header\n",
    "                        elif current_chapter:\n",
    "                            meta.append({'section': current_chapter, 'page': current_page})\n",
    "                        else:                            # first page of doc => neither chapter nor section \n",
    "                            meta.append({'section': current_text, 'page': current_page})\n",
    "\n",
    "                        current_page = page\n",
    "                        current_text = ''  \n",
    "                        current_chapter = text           # remove trailing white spaces in chapter\n",
    "                        continue\n",
    "                \n",
    "                if text[-1].isalpha() or text[-1].isdigit() or text[-1] in \")]\\}>\":\n",
    "                    current_text += text + '. '\n",
    "                else:\n",
    "                    current_text += text\n",
    "\n",
    "sections.append(f'{current_chapter}, {current_text}')      # add in final section\n",
    "if current_section:\n",
    "    meta.append({'section': current_section, 'page': current_page})\n",
    "else:\n",
    "    meta.append({'section': current_chapter, 'page': current_page})\n",
    "\n",
    "# sections"
   ]
  },
  {
   "cell_type": "code",
   "execution_count": null,
   "metadata": {},
   "outputs": [],
   "source": [
    "## requires generated context as input instead of results\n",
    "\n",
    "def generate_ans(query, context, tokenizer=tokenizer, model=model, device='cuda'):\n",
    "    \n",
    "    input_text = \"question: \" + query + \"</s> question_context: \" + context\n",
    "    # input_text = re.sub(\"\\s\\s+\" , \" \", input_text)  # converts 2 or more consecutive spaces into a single space\n",
    "\n",
    "    \n",
    "    input_tokenized = tokenizer.encode(input_text, return_tensors='pt', truncation=True, padding='max_length', max_length=768)#.to(device)\n",
    "    _tok_count_assessment = tokenizer.encode(input_text, return_tensors='pt', truncation=True)#.to(device)\n",
    "\n",
    "    summary_ids = model.generate(input_tokenized, \n",
    "                                       max_length=30, \n",
    "                                       min_length=5, \n",
    "                                       num_beams=5,\n",
    "                                       early_stopping=True,\n",
    "                                   )\n",
    "    output = [tokenizer.decode(id, clean_up_tokenization_spaces=True, skip_special_tokens=True) for id in summary_ids] \n",
    "    \n",
    "    return str(output[0])"
   ]
  }
 ],
 "metadata": {
  "kernelspec": {
   "display_name": "venv",
   "language": "python",
   "name": "python3"
  },
  "language_info": {
   "codemirror_mode": {
    "name": "ipython",
    "version": 3
   },
   "file_extension": ".py",
   "mimetype": "text/x-python",
   "name": "python",
   "nbconvert_exporter": "python",
   "pygments_lexer": "ipython3",
   "version": "3.11.4"
  },
  "orig_nbformat": 4
 },
 "nbformat": 4,
 "nbformat_minor": 2
}
